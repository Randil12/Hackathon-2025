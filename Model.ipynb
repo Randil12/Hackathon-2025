{
 "cells": [
  {
   "cell_type": "code",
   "execution_count": null,
   "metadata": {},
   "outputs": [],
   "source": [
    "import pandas as pd\n",
    "import numpy as np\n",
    "from sklearn.ensemble import IsolationForest\n",
    "from sklearn.preprocessing import StandardScaler, LabelEncoder\n",
    "import joblib"
   ]
  },
  {
   "cell_type": "code",
   "execution_count": null,
   "metadata": {},
   "outputs": [
    {
     "name": "stderr",
     "output_type": "stream",
     "text": [
      "C:\\Users\\nguye\\AppData\\Local\\Temp\\ipykernel_22508\\1300564688.py:8: DtypeWarning: Columns (0,4,5,6,7,8,9,10,11,12,13,14,15,16,17,18,19,20,21,22,23,24,25,26,27,28,29,30,31,32,33,34,35,36,37,38,39,40) have mixed types. Specify dtype option on import or set low_memory=False.\n",
      "  df = pd.read_csv(\"artifacts/KDDCup99.csv\", header=None)\n"
     ]
    },
    {
     "name": "stdout",
     "output_type": "stream",
     "text": [
      "🎯 Modèle entraîné et sauvegardé avec succès !\n",
      "anomaly\n",
      "Normal      91718\n",
      "Anomalie    45859\n",
      "Name: count, dtype: int64\n",
      "⚠️ 45859 anomalies détectées ! Score moyen : -0.0815\n"
     ]
    }
   ],
   "source": [
    "\n",
    "\n",
    "# Charger les données KDD Cup 99\n",
    "df = pd.read_csv(\"artifacts/KDDCup99.csv\", header=None)\n",
    "\n",
    "# Sélection de colonnes pertinentes\n",
    "df = df.iloc[:, [0, 1, 4, 5]]\n",
    "df.columns = [\"duration\", \"protocol_type\", \"src_bytes\", \"dst_bytes\"]\n",
    "\n",
    "# Vérifier et convertir les colonnes en numérique\n",
    "df[\"duration\"] = pd.to_numeric(df[\"duration\"], errors=\"coerce\")\n",
    "df[\"src_bytes\"] = pd.to_numeric(df[\"src_bytes\"], errors=\"coerce\")\n",
    "df[\"dst_bytes\"] = pd.to_numeric(df[\"dst_bytes\"], errors=\"coerce\")\n",
    "\n",
    "# Remplacer les NaN par 0\n",
    "df.fillna(0, inplace=True)\n",
    "\n",
    "# Encodage de \"protocol_type\"\n",
    "label_encoder = LabelEncoder()\n",
    "df[\"protocol_type\"] = label_encoder.fit_transform(df[\"protocol_type\"])\n",
    "\n",
    "# Normalisation des données\n",
    "scaler = StandardScaler()\n",
    "df_scaled = scaler.fit_transform(df)\n",
    "\n",
    "# Entraîner Isolation Forest avec scoring\n",
    "model = IsolationForest(contamination=\"auto\", random_state=42)\n",
    "model.fit(df_scaled)\n",
    "\n",
    "# Prédire les anomalies avec score d'anomalie\n",
    "df[\"anomaly\"] = model.predict(df_scaled)\n",
    "df[\"score\"] = model.decision_function(df_scaled)  # Score d'anomalie\n",
    "\n",
    "# Mapper les résultats\n",
    "df[\"anomaly\"] = df[\"anomaly\"].map({1: \"Normal\", -1: \"Anomalie\"})\n",
    "\n",
    "# ✅ Équilibrer les classes en réduisant les non-anomalies\n",
    "anomalies = df[df[\"anomaly\"] == \"Anomalie\"]\n",
    "normaux = df[df[\"anomaly\"] == \"Normal\"].sample(len(anomalies) * 2, random_state=42)  # Ratio 2:1\n",
    "\n",
    "df_balanced = pd.concat([anomalies, normaux])\n",
    "\n",
    "# Sauvegarde du modèle\n",
    "joblib.dump(model, \"./artifacts/isolation_forest.pkl\")\n",
    "\n",
    "# Affichage des résultats\n",
    "print(\"🎯 Modèle entraîné et sauvegardé avec succès !\")\n",
    "print(df_balanced[\"anomaly\"].value_counts())\n",
    "\n",
    "# Génération d'alerte si des anomalies sont détectées\n",
    "if len(anomalies) > 0:\n",
    "    print(f\"⚠️ {len(anomalies)} anomalies détectées ! Score moyen : {anomalies['score'].mean():.4f}\")\n"
   ]
  },
  {
   "cell_type": "code",
   "execution_count": null,
   "metadata": {},
   "outputs": [],
   "source": []
  }
 ],
 "metadata": {
  "kernelspec": {
   "display_name": "env",
   "language": "python",
   "name": "python3"
  },
  "language_info": {
   "codemirror_mode": {
    "name": "ipython",
    "version": 3
   },
   "file_extension": ".py",
   "mimetype": "text/x-python",
   "name": "python",
   "nbconvert_exporter": "python",
   "pygments_lexer": "ipython3",
   "version": "3.10.11"
  }
 },
 "nbformat": 4,
 "nbformat_minor": 2
}
